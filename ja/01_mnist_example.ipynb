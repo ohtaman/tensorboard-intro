{
 "cells": [
  {
   "cell_type": "markdown",
   "metadata": {},
   "source": [
    "# 1. MNIST分類モデルの構築とTensorBoardによる可視化\n",
    "\n",
    "ここでは、MNISTを題材にして、TensorBoardの機能を解説します。\n",
    "\n",
    "[Hands-on TensorBoard (TensorFlow Dev Summit 2017)](https://www.youtube.com/watch?v=eBbEDRsCmv4) をベースにしています。"
   ]
  },
  {
   "cell_type": "markdown",
   "metadata": {},
   "source": [
    "## 1-1. 前準備\n",
    "\n",
    "必要なライブラリをインポートし、MNISTのデータをダウンロードします。\n",
    "\n",
    "MNISTは、0 から 9 までの手書き画像を分類する、有名な問題とデータ・セットのことです。画像データは全て $28\\times28$ ピクセルです。\n",
    "TensorFlow のチュートリアルでも利用されており、\n",
    "```\n",
    "tensorflow.examples.tutorials.mnist\n",
    "```\n",
    "に MNIST 専用の便利関数があります。MNISTのデータは $28\\times28 = 786$ 次元の実数値ベクトルとして表現されています。\n",
    "各画像には 0 から 9 のラベルが one hot 表現で付与されています。"
   ]
  },
  {
   "cell_type": "code",
   "execution_count": 42,
   "metadata": {
    "collapsed": false
   },
   "outputs": [],
   "source": [
    "import tensorflow as tf\n",
    "from tensorflow.examples.tutorials.mnist import input_data\n",
    "\n",
    "# TensorBoardによる可視化\n",
    "from google.datalab.ml._tensorboard import TensorBoard\n",
    "# Jupyter Notebook 上での可視化\n",
    "import matplotlib.pyplot as plt\n",
    "import seaborn\n",
    "seaborn.set_style({'axes.grid' : False}) # グリッドを非表示とする"
   ]
  },
  {
   "cell_type": "code",
   "execution_count": 43,
   "metadata": {
    "collapsed": false
   },
   "outputs": [
    {
     "name": "stdout",
     "output_type": "stream",
     "text": [
      "Extracting MNIST_data/train-images-idx3-ubyte.gz\n",
      "Extracting MNIST_data/train-labels-idx1-ubyte.gz\n",
      "Extracting MNIST_data/t10k-images-idx3-ubyte.gz\n",
      "Extracting MNIST_data/t10k-labels-idx1-ubyte.gz\n",
      "\n",
      "label of image0: [ 0.  0.  0.  0.  0.  0.  0.  1.  0.  0.]\n"
     ]
    },
    {
     "data": {
      "image/png": "[encoded data removed]",
      "text/plain": [
       "<matplotlib.figure.Figure at 0x7f1d6050bdd0>"
      ]
     },
     "metadata": {},
     "output_type": "display_data"
    },
    {
     "name": "stdout",
     "output_type": "stream",
     "text": [
      "label of image1: [ 0.  0.  0.  1.  0.  0.  0.  0.  0.  0.]\n"
     ]
    },
    {
     "data": {
      "image/png": "[encoded data removed]",
      "text/plain": [
       "<matplotlib.figure.Figure at 0x7f1d513bb190>"
      ]
     },
     "metadata": {},
     "output_type": "display_data"
    }
   ],
   "source": [
    "# MNISTのデータのダウンロードと展開\n",
    "mnist = input_data.read_data_sets('MNIST_data', one_hot=True)\n",
    "\n",
    "print\n",
    "print('label of image0: {}'.format(mnist.train.labels[0]))\n",
    "plt.imshow(mnist.train.images[0].reshape(28, 28), cmap='gray', interpolation='none')\n",
    "plt.show()\n",
    "print('label of image1: {}'.format(mnist.train.labels[1]))\n",
    "plt.imshow(mnist.train.images[1].reshape(28, 28), cmap='gray', interpolation='none')\n",
    "plt.show()"
   ]
  },
  {
   "cell_type": "markdown",
   "metadata": {},
   "source": [
    "## 1-2. 初期モデルの構築\n",
    "\n",
    "まずは初期モデルとして、下記のネットワークを構成します\n",
    "\n",
    "![mnist](img/mnist_arch.png)\n",
    "\n",
    "2つの畳み込み層と2つの全結合層をもつ、単純なネットワークです。 "
   ]
  },
  {
   "cell_type": "markdown",
   "metadata": {},
   "source": [
    "まずは畳み込み層と全結合層を定義します。"
   ]
  },
  {
   "cell_type": "code",
   "execution_count": 44,
   "metadata": {
    "collapsed": false
   },
   "outputs": [],
   "source": [
    "def conv_layer(input, channels_in, channels_out):\n",
    "    w = tf.Variable(tf.zeros([5, 5, channels_in, channels_out]))\n",
    "    b = tf.Variable(tf.zeros([channels_out]))\n",
    "    conv = tf.nn.conv2d(input, w, strides=[1, 1, 1, 1], padding=\"SAME\")\n",
    "    act = tf.nn.relu(conv + b)\n",
    "    return act\n",
    "\n",
    "def fc_layer(input, channels_in, channels_out):\n",
    "    w = tf.Variable(tf.zeros([channels_in, channels_out]))\n",
    "    b = tf.Variable(tf.zeros([channels_out]))\n",
    "    act = tf.nn.relu(tf.matmul(input, w) + b)\n",
    "    return act"
   ]
  },
  {
   "cell_type": "markdown",
   "metadata": {},
   "source": [
    "次に、それらの層をつなげて、グラフを構築します。"
   ]
  },
  {
   "cell_type": "code",
   "execution_count": 45,
   "metadata": {
    "collapsed": true
   },
   "outputs": [],
   "source": [
    "x = tf.placeholder(tf.float32, shape=[None, 784])\n",
    "y = tf.placeholder(tf.float32, shape=[None, 10])\n",
    "x_image = tf.reshape(x, [-1, 28, 28, 1])\n",
    "\n",
    "conv1 = conv_layer(x_image, 1, 4)\n",
    "pool1 = tf.nn.max_pool(conv1, ksize=[1, 2, 2, 1], strides=[1, 2, 2, 1], padding=\"SAME\")\n",
    "conv2 = conv_layer(pool1, 4, 8)\n",
    "pool2 = tf.nn.max_pool(conv2, ksize=[1, 2, 2, 1], strides=[1, 2, 2, 1], padding=\"SAME\")\n",
    "\n",
    "flattened = tf.reshape(pool2, [-1, (28/2/2)*(28/2/2)*8])\n",
    "fc1 = fc_layer(flattened, flattened.get_shape()[1], 128)\n",
    "logits = fc_layer(fc1, 128, 10)\n",
    "\n",
    "cross_entropy = tf.reduce_mean(\n",
    "  tf.nn.softmax_cross_entropy_with_logits(logits=logits, labels=y)\n",
    ")\n",
    "train_step = tf.train.AdamOptimizer().minimize(cross_entropy)\n",
    "\n",
    "correct_prediction = tf.equal(tf.argmax(logits, 1), tf.argmax(y, 1))\n",
    "accuracy = tf.reduce_mean(tf.cast(correct_prediction, tf.float32))"
   ]
  },
  {
   "cell_type": "markdown",
   "metadata": {},
   "source": [
    "最後に、セッションを生成して、学習のステップを進めます。"
   ]
  },
  {
   "cell_type": "code",
   "execution_count": 46,
   "metadata": {
    "collapsed": false
   },
   "outputs": [
    {
     "name": "stdout",
     "output_type": "stream",
     "text": [
      "step 250, training accuracy 0.09\n",
      "step 500, training accuracy 0.13\n",
      "step 750, training accuracy 0.14\n",
      "step 1000, training accuracy 0.11\n"
     ]
    }
   ],
   "source": [
    "with tf.Session() as sess:\n",
    "    sess.run(tf.global_variables_initializer())\n",
    "    for i in range(1, 1001):\n",
    "        batch = mnist.train.next_batch(100)\n",
    "        if i%250 == 0:\n",
    "            train_acurracy = sess.run(accuracy, feed_dict={x: batch[0], y: batch[1]})\n",
    "            print(\"step %d, training accuracy %g\" % (i, train_acurracy))\n",
    "      \n",
    "    # Run the training step\n",
    "    sess.run(train_step, feed_dict={x: batch[0], y: batch[1]})"
   ]
  },
  {
   "cell_type": "markdown",
   "metadata": {},
   "source": [
    "accuracy が 0.1 程度から上がらず、うまく学習できていないことがわかりました。\n",
    "原因特定のため、これからTensorBoardを使ってグラフを可視化します。"
   ]
  },
  {
   "cell_type": "markdown",
   "metadata": {},
   "source": [
    "## 1-2. TensorBoard によるグラフの可視化\n",
    "\n",
    "まずはグラフを可視化します。\n",
    "\n",
    "```\n",
    "writer = tf.summary.FileWriter('logs/1')\n",
    "writer.add_graph(sess.graph)\n",
    "```"
   ]
  },
  {
   "cell_type": "code",
   "execution_count": 47,
   "metadata": {
    "collapsed": false
   },
   "outputs": [],
   "source": [
    "with tf.Session() as sess:\n",
    "    writer = tf.summary.FileWriter('logs/1')\n",
    "    writer.add_graph(sess.graph)"
   ]
  },
  {
   "cell_type": "code",
   "execution_count": 48,
   "metadata": {
    "collapsed": false
   },
   "outputs": [
    {
     "data": {
      "text/html": [
       "<p>TensorBoard was started successfully with pid 19248. Click <a href=\"/_proxy/44464/\" target=\"_blank\">here</a> to access it.</p>"
      ]
     },
     "metadata": {},
     "output_type": "display_data"
    }
   ],
   "source": [
    "# Start TensorBoard\n",
    "pid = TensorBoard.start('logs/1')"
   ]
  },
  {
   "cell_type": "markdown",
   "metadata": {},
   "source": [
    "### TensorBoard\n",
    "\n",
    "![TensorBoard01](img/tensorboard-01.png)"
   ]
  },
  {
   "cell_type": "code",
   "execution_count": null,
   "metadata": {
    "collapsed": false
   },
   "outputs": [],
   "source": [
    "# Stop TensorBoard\n",
    "TensorBoard.stop(pid)"
   ]
  },
  {
   "cell_type": "markdown",
   "metadata": {},
   "source": [
    "確かにグラフが可視化されましたが、とても複雑に見えます。\n",
    "MNISTでこの状態なので、Inceptionなど、さらに大きなグラフの場合には解釈がとても難しくなります。\n",
    "名前空間をうまく使うことで、この問題は解決できます。"
   ]
  },
  {
   "cell_type": "markdown",
   "metadata": {},
   "source": [
    "## 1-3. 名前と名前空間\n",
    "\n",
    "http://qiita.com/TomokIshii/items/ffe999b3e1a506c396c8\n",
    "\n",
    "name_scope は variable_scope よりも汎用的。\n",
    "variable_scope は変数のみ。"
   ]
  },
  {
   "cell_type": "code",
   "execution_count": 49,
   "metadata": {
    "collapsed": true
   },
   "outputs": [],
   "source": [
    "# Reset graph\n",
    "tf.reset_default_graph()"
   ]
  },
  {
   "cell_type": "code",
   "execution_count": 50,
   "metadata": {
    "collapsed": true
   },
   "outputs": [],
   "source": [
    "def conv_layer(input, channels_in, channels_out, name=\"conv\"):\n",
    "  with tf.name_scope(name):  # name_scope を追加\n",
    "    w = tf.Variable(tf.zeros([5, 5, channels_in, channels_out]), name=\"W\")  # name を追加\n",
    "    b = tf.Variable(tf.zeros([channels_out]), name=\"B\")  # name を追加\n",
    "    conv = tf.nn.conv2d(input, w, strides=[1, 1, 1, 1], padding=\"SAME\")  # name を追加\n",
    "    act = tf.nn.relu(conv + b)\n",
    "  return act\n",
    "\n",
    "def fc_layer(input, channels_in, channels_out, name=\"fc\"):\n",
    "  with tf.name_scope(name):  # name_scope を追加\n",
    "    w = tf.Variable(tf.zeros([channels_in, channels_out]), name=\"W\")  # name を追加\n",
    "    b = tf.Variable(tf.zeros([channels_out]), name=\"B\")  # name を追加\n",
    "    act = tf.nn.relu(tf.matmul(input, w) + b)\n",
    "  return act"
   ]
  },
  {
   "cell_type": "code",
   "execution_count": 51,
   "metadata": {
    "collapsed": true
   },
   "outputs": [],
   "source": [
    "x = tf.placeholder(tf.float32, shape=[None, 784], name=\"x\")\n",
    "y = tf.placeholder(tf.float32, shape=[None, 10], name=\"y\")\n",
    "x_image = tf.reshape(x, [-1, 28, 28, 1])\n",
    "conv1 = conv_layer(x_image, 1, 32, \"conv1\")\n",
    "pool1 = tf.nn.max_pool(conv1, ksize=[1, 2, 2, 1], strides=[1, 2, 2, 1], padding=\"SAME\")\n",
    "conv2 = conv_layer(pool1, 32, 64, \"conv2\")\n",
    "pool2 = tf.nn.max_pool(conv2, ksize=[1, 2, 2, 1], strides=[1, 2, 2, 1], padding=\"SAME\")\n",
    "\n",
    "num_elements = pool2.get_shape()[1:].num_elements()\n",
    "flattened = tf.reshape(pool2, [-1, num_elements])\n",
    "\n",
    "fc1 = fc_layer(flattened, flattened.get_shape()[1], 1024, \"fc1\")\n",
    "logits = fc_layer(fc1, 1024, 10, \"fc2\")\n",
    "\n",
    "with tf.name_scope(\"xent\"):  # name_scope を追加\n",
    "  cross_entropy = tf.reduce_mean(\n",
    "    tf.nn.softmax_cross_entropy_with_logits(logits=logits, labels=y)\n",
    "  )\n",
    "with tf.name_scope(\"train\"):  # name_scope を追加\n",
    "  train_step = tf.train.AdamOptimizer().minimize(cross_entropy)\n",
    "with tf.name_scope(\"accuracy\"):  # name_scope を追加\n",
    "  correct_prediction = tf.equal(tf.argmax(logits, 1), tf.argmax(y, 1))\n",
    "  accuracy = tf.reduce_mean(tf.cast(correct_prediction, tf.float32))"
   ]
  },
  {
   "cell_type": "code",
   "execution_count": 52,
   "metadata": {
    "collapsed": true
   },
   "outputs": [],
   "source": [
    "with tf.Session() as sess:\n",
    "  sess.run(tf.global_variables_initializer())\n",
    "  \n",
    "  writer = tf.summary.FileWriter('logs/2')\n",
    "  writer.add_graph(sess.graph)"
   ]
  },
  {
   "cell_type": "code",
   "execution_count": 53,
   "metadata": {
    "collapsed": false
   },
   "outputs": [
    {
     "data": {
      "text/html": [
       "<p>TensorBoard was started successfully with pid 19440. Click <a href=\"/_proxy/35756/\" target=\"_blank\">here</a> to access it.</p>"
      ]
     },
     "metadata": {},
     "output_type": "display_data"
    }
   ],
   "source": [
    "# Start TensorBoard\n",
    "pid = TensorBoard.start('logs/2')"
   ]
  },
  {
   "cell_type": "markdown",
   "metadata": {},
   "source": [
    "### TensorBoard\n",
    "\n",
    "![TensorBoard02](img/tensorboard-02.png)"
   ]
  },
  {
   "cell_type": "code",
   "execution_count": 9,
   "metadata": {
    "collapsed": true
   },
   "outputs": [],
   "source": [
    "TensorBoard.stop(pid)"
   ]
  },
  {
   "cell_type": "markdown",
   "metadata": {},
   "source": [
    "## 1-4. サマリの収集"
   ]
  },
  {
   "cell_type": "markdown",
   "metadata": {},
   "source": [
    "以下の4種類の関数で summary を取得する\n",
    "\n",
    "- tf.summary.histogram\n",
    "- tf.summary.image\n",
    "- tf.summary.audio\n",
    "- tf.summary.tensor (under developing)\n"
   ]
  },
  {
   "cell_type": "code",
   "execution_count": 54,
   "metadata": {
    "collapsed": true
   },
   "outputs": [],
   "source": [
    "tf.reset_default_graph()"
   ]
  },
  {
   "cell_type": "code",
   "execution_count": 55,
   "metadata": {
    "collapsed": true
   },
   "outputs": [],
   "source": [
    "def conv_layer(input, channels_in, channels_out, name=\"conv\"):\n",
    "  with tf.name_scope(name):\n",
    "    w = tf.Variable(tf.zeros([5, 5, channels_in, channels_out]), name=\"W\")\n",
    "    b = tf.Variable(tf.zeros([channels_out]), name=\"B\")\n",
    "    conv = tf.nn.conv2d(input, w, strides=[1, 1, 1, 1], padding=\"SAME\")\n",
    "    act = tf.nn.relu(conv + b)\n",
    "    tf.summary.histogram(\"weights\", w)  # 追加\n",
    "    tf.summary.histogram(\"biases\", b)  # 追加\n",
    "    tf.summary.histogram(\"activations\", act)  # 追加\n",
    "  return act\n",
    "\n",
    "def fc_layer(input, channels_in, channels_out, name=\"fc\"):\n",
    "  with tf.name_scope(name):\n",
    "    w = tf.Variable(tf.zeros([channels_in, channels_out]), name=\"W\")\n",
    "    b = tf.Variable(tf.zeros([channels_out]), name=\"B\")\n",
    "    act = tf.nn.relu(tf.matmul(input, w) + b)\n",
    "    tf.summary.histogram(\"weights\", w)  # 追加\n",
    "    tf.summary.histogram(\"biases\", b)  # 追加\n",
    "    tf.summary.histogram(\"activations\", act)  # 追加\n",
    "  return act\n",
    "\n",
    "x = tf.placeholder(tf.float32, shape=[None, 784], name=\"x\")\n",
    "y = tf.placeholder(tf.float32, shape=[None, 10], name=\"y\")\n",
    "x_image = tf.reshape(x, [-1, 28, 28, 1])\n",
    "tf.summary.image('input', x_image)\n",
    "conv1 = conv_layer(x_image, 1, 4, \"conv1\")\n",
    "pool1 = tf.nn.max_pool(conv1, ksize=[1, 2, 2, 1], strides=[1, 2, 2, 1], padding=\"SAME\")\n",
    "conv2 = conv_layer(pool1, 4, 8, \"conv2\")\n",
    "pool2 = tf.nn.max_pool(conv2, ksize=[1, 2, 2, 1], strides=[1, 2, 2, 1], padding=\"SAME\")\n",
    "\n",
    "num_elements = pool2.get_shape()[1:].num_elements()\n",
    "flattened = tf.reshape(pool2, [-1, num_elements])\n",
    "\n",
    "fc1 = fc_layer(flattened, flattened.get_shape()[1], 1024, \"fc1\")\n",
    "logits = fc_layer(fc1, 1024, 10, \"fc2\")\n",
    "\n",
    "with tf.name_scope(\"xent\"):\n",
    "  cross_entropy = tf.reduce_mean(\n",
    "    tf.nn.softmax_cross_entropy_with_logits(logits=logits, labels=y)\n",
    "  )\n",
    "  tf.summary.scalar('xent', cross_entropy)  # 追加\n",
    "with tf.name_scope(\"train\"):\n",
    "  train_step = tf.train.AdamOptimizer().minimize(cross_entropy)\n",
    "with tf.name_scope(\"accuracy\"):\n",
    "  correct_prediction = tf.equal(tf.argmax(logits, 1), tf.argmax(y, 1))\n",
    "  accuracy = tf.reduce_mean(tf.cast(correct_prediction, tf.float32))\n",
    "  tf.summary.scalar('acurracy', accuracy)  # 追加"
   ]
  },
  {
   "cell_type": "code",
   "execution_count": 56,
   "metadata": {
    "collapsed": false
   },
   "outputs": [
    {
     "name": "stdout",
     "output_type": "stream",
     "text": [
      "step 250, training accuracy 0.08\n",
      "step 500, training accuracy 0.09\n",
      "step 750, training accuracy 0.1\n",
      "step 1000, training accuracy 0.11\n"
     ]
    }
   ],
   "source": [
    "with tf.Session() as sess:\n",
    "  sess.run(tf.global_variables_initializer())\n",
    "  \n",
    "  merged_summary = tf.summary.merge_all()\n",
    "  writer = tf.summary.FileWriter('logs/3')\n",
    "  writer.add_graph(sess.graph)\n",
    "  \n",
    "  for i in range(1, 1001):\n",
    "    batch = mnist.train.next_batch(100)\n",
    "    if i % 5 == 0:\n",
    "      s = sess.run(merged_summary, feed_dict={x: batch[0], y: batch[1]})\n",
    "      writer.add_summary(s, i)\n",
    "      \n",
    "    if i%250 == 0:\n",
    "      train_acurracy = sess.run(accuracy, feed_dict={x: batch[0], y: batch[1]})\n",
    "      print(\"step %d, training accuracy %g\" % (i, train_acurracy))\n",
    "\n",
    "    sess.run(train_step, feed_dict={x: batch[0], y: batch[1]})"
   ]
  },
  {
   "cell_type": "code",
   "execution_count": 57,
   "metadata": {
    "collapsed": false
   },
   "outputs": [
    {
     "data": {
      "text/html": [
       "<p>TensorBoard was started successfully with pid 19633. Click <a href=\"/_proxy/59979/\" target=\"_blank\">here</a> to access it.</p>"
      ]
     },
     "metadata": {},
     "output_type": "display_data"
    }
   ],
   "source": [
    "pid = TensorBoard.start('logs/3')"
   ]
  },
  {
   "cell_type": "code",
   "execution_count": 15,
   "metadata": {
    "collapsed": true
   },
   "outputs": [],
   "source": [
    "TensorBoard.stop(pid)"
   ]
  },
  {
   "cell_type": "markdown",
   "metadata": {},
   "source": [
    "## 1-5. バグの原因の特定と解決"
   ]
  },
  {
   "cell_type": "markdown",
   "metadata": {},
   "source": [
    "学習が進んでいない原因は weights や biases に tf.zeros を指定していたことが原因のように見えるので、そこを変えてみる"
   ]
  },
  {
   "cell_type": "code",
   "execution_count": 38,
   "metadata": {
    "collapsed": true
   },
   "outputs": [],
   "source": [
    "tf.reset_default_graph()"
   ]
  },
  {
   "cell_type": "code",
   "execution_count": 20,
   "metadata": {
    "collapsed": false
   },
   "outputs": [],
   "source": [
    "def conv_layer(input, channels_in, channels_out, name=\"conv\"):\n",
    "  with tf.name_scope(name):\n",
    "    w = tf.Variable(tf.truncated_normal([5, 5, channels_in, channels_out], stddev=0.1), name=\"W\")\n",
    "    b = tf.Variable(tf.constant(0.1, shape=[channels_out]), name=\"B\")\n",
    "    conv = tf.nn.conv2d(input, w, strides=[1, 1, 1, 1], padding=\"SAME\")\n",
    "    act = tf.nn.relu(conv + b)\n",
    "    tf.summary.histogram(\"weights\", w)\n",
    "    tf.summary.histogram(\"biases\", b)\n",
    "    tf.summary.histogram(\"activations\", act)\n",
    "  return act\n",
    "\n",
    "def fc_layer(input, channels_in, channels_out, name=\"fc\"):\n",
    "  with tf.name_scope(name):\n",
    "    w = tf.Variable(tf.truncated_normal([channels_in, channels_out], stddev=0.1), name=\"W\")\n",
    "    b = tf.Variable(tf.constant(0.1, shape=[channels_out]), name=\"B\")\n",
    "    act = tf.nn.relu(tf.matmul(input, w) + b)\n",
    "    tf.summary.histogram(\"weights\", w)\n",
    "    tf.summary.histogram(\"biases\", b)\n",
    "    tf.summary.histogram(\"activations\", act)\n",
    "  return act\n",
    "\n",
    "x = tf.placeholder(tf.float32, shape=[None, 784], name=\"x\")\n",
    "y = tf.placeholder(tf.float32, shape=[None, 10], name=\"y\")\n",
    "x_image = tf.reshape(x, [-1, 28, 28, 1])\n",
    "tf.summary.image('input', x_image)\n",
    "conv1 = conv_layer(x_image, 1, 4, \"conv1\")\n",
    "pool1 = tf.nn.max_pool(conv1, ksize=[1, 2, 2, 1], strides=[1, 2, 2, 1], padding=\"SAME\")\n",
    "conv2 = conv_layer(pool1, 4, 8, \"conv2\")\n",
    "pool2 = tf.nn.max_pool(conv2, ksize=[1, 2, 2, 1], strides=[1, 2, 2, 1], padding=\"SAME\")\n",
    "\n",
    "num_elements = pool2.get_shape()[1:].num_elements()\n",
    "flattened = tf.reshape(pool2, [-1, num_elements])\n",
    "flattened_dim = int(flattened.get_shape()[1])\n",
    "\n",
    "fc1 = fc_layer(flattened, flattened_dim, 1024, \"fc1\")\n",
    "logits = fc_layer(fc1, 1024, 10, \"fc2\")\n",
    "\n",
    "with tf.name_scope(\"xent\"):\n",
    "  cross_entropy = tf.reduce_mean(\n",
    "    tf.nn.softmax_cross_entropy_with_logits(logits=logits, labels=y)\n",
    "  )\n",
    "  tf.summary.scalar('xent', cross_entropy)\n",
    "with tf.name_scope(\"train\"):\n",
    "  train_step = tf.train.AdamOptimizer().minimize(cross_entropy)\n",
    "with tf.name_scope(\"accuracy\"):\n",
    "  correct_prediction = tf.equal(tf.argmax(logits, 1), tf.argmax(y, 1))\n",
    "  accuracy = tf.reduce_mean(tf.cast(correct_prediction, tf.float32))\n",
    "  tf.summary.scalar('acurracy', accuracy)"
   ]
  },
  {
   "cell_type": "code",
   "execution_count": 22,
   "metadata": {
    "collapsed": false
   },
   "outputs": [
    {
     "name": "stdout",
     "output_type": "stream",
     "text": [
      "step 250, training accuracy 0.47\n",
      "step 500, training accuracy 0.65\n",
      "step 750, training accuracy 0.62\n",
      "step 1000, training accuracy 0.53\n"
     ]
    }
   ],
   "source": [
    "with tf.Session() as sess:\n",
    "  sess.run(tf.global_variables_initializer())\n",
    "  \n",
    "  merged_summary = tf.summary.merge_all()\n",
    "  writer = tf.summary.FileWriter('logs/4')\n",
    "  writer.add_graph(sess.graph)\n",
    "  \n",
    "  for i in range(1, 1001):\n",
    "    batch = mnist.train.next_batch(100)\n",
    "    if i % 5 == 0:\n",
    "      s = sess.run(merged_summary, feed_dict={x: batch[0], y: batch[1]})\n",
    "      writer.add_summary(s, i)\n",
    "      \n",
    "    if i%250 == 0:\n",
    "      train_acurracy = sess.run(accuracy, feed_dict={x: batch[0], y: batch[1]})\n",
    "      print(\"step %d, training accuracy %g\" % (i, train_acurracy))\n",
    "\n",
    "    sess.run(train_step, feed_dict={x: batch[0], y: batch[1]})"
   ]
  },
  {
   "cell_type": "code",
   "execution_count": null,
   "metadata": {
    "collapsed": false
   },
   "outputs": [],
   "source": [
    "pid = TensorBoard.start('logs/4')"
   ]
  },
  {
   "cell_type": "code",
   "execution_count": null,
   "metadata": {
    "collapsed": true
   },
   "outputs": [],
   "source": [
    "TensorBoard.stop(pid)"
   ]
  },
  {
   "cell_type": "markdown",
   "metadata": {},
   "source": [
    "## Then, Tuning HyperParameters"
   ]
  },
  {
   "cell_type": "markdown",
   "metadata": {},
   "source": [
    "次にパラメータのチューニングをしていきます。\n",
    "実は TensorBoard は指定されたディレクトリを再帰的に読みに行きます。"
   ]
  },
  {
   "cell_type": "code",
   "execution_count": null,
   "metadata": {
    "collapsed": false
   },
   "outputs": [],
   "source": [
    "pid = TensorBoard.start('logs/hparams')\n",
    "# TensorBoard was started successfully with pid 13166. Click here to access it."
   ]
  },
  {
   "cell_type": "code",
   "execution_count": 24,
   "metadata": {
    "collapsed": false
   },
   "outputs": [],
   "source": [
    "def run_mnist(learning_rate, n_fc_layers, n_conv_layers, writer):\n",
    "  tf.reset_default_graph()\n",
    "  x = tf.placeholder(tf.float32, shape=[None, 784], name=\"x\")\n",
    "  y = tf.placeholder(tf.float32, shape=[None, 10], name=\"y\")\n",
    "  x_image = tf.reshape(x, [-1, 28, 28, 1])\n",
    "  \n",
    "  in_ = x_image\n",
    "  for layer in range(n_conv_layers):\n",
    "    channels_in = int(in_.get_shape()[-1])\n",
    "    channels_out = 2**(layer + 1)\n",
    "    conv = conv_layer(in_, channels_in, channels_out, \"conv{}\".format(layer))\n",
    "    pool = tf.nn.max_pool(conv, ksize=[1, 2, 2, 1], strides=[1, 2, 2, 1], padding=\"SAME\")\n",
    "    in_ = pool\n",
    "    \n",
    "  num_elements = in_.get_shape()[1:].num_elements()\n",
    "  flattened = tf.reshape(in_, [-1, num_elements])\n",
    "  \n",
    "  in_ = flattened\n",
    "  for layer in range(n_fc_layers):\n",
    "    channels_in = int(in_.get_shape()[-1])\n",
    "    channels_out = 1024\n",
    "    fc = fc_layer(in_, channels_in, channels_out, \"fc{}\".format(layer))\n",
    "    in_ = fc\n",
    "\n",
    "  logits = fc_layer(in_, 1024, 10, \"fc{}\".format(n_fc_layers))\n",
    "  \n",
    "  with tf.name_scope(\"xent\"):\n",
    "    cross_entropy = tf.reduce_mean(\n",
    "      tf.nn.softmax_cross_entropy_with_logits(logits=logits, labels=y)\n",
    "    )\n",
    "    tf.summary.scalar('xent', cross_entropy)\n",
    "  with tf.name_scope(\"train\"):\n",
    "    train_step = tf.train.AdamOptimizer(learning_rate).minimize(cross_entropy)\n",
    "  with tf.name_scope(\"accuracy\"):\n",
    "    correct_prediction = tf.equal(tf.argmax(logits, 1), tf.argmax(y, 1))\n",
    "    accuracy = tf.reduce_mean(tf.cast(correct_prediction, tf.float32))\n",
    "    tf.summary.scalar('acurracy', accuracy)\n",
    "    \n",
    "  with tf.Session() as sess:\n",
    "    sess.run(tf.global_variables_initializer())\n",
    "  \n",
    "    merged_summary = tf.summary.merge_all()\n",
    "    writer.add_graph(sess.graph)\n",
    "  \n",
    "    for i in range(1, 2001):\n",
    "      batch = mnist.train.next_batch(100)\n",
    "      if i % 5 == 0:\n",
    "        s = sess.run(merged_summary, feed_dict={x: batch[0], y: batch[1]})\n",
    "        writer.add_summary(s, i)\n",
    "      \n",
    "      if i%250 == 0:\n",
    "        train_acurracy = sess.run(accuracy, feed_dict={x: batch[0], y: batch[1]})\n",
    "        print(\"step %d, training accuracy %g\" % (i, train_acurracy))\n",
    "\n",
    "      sess.run(train_step, feed_dict={x: batch[0], y: batch[1]})"
   ]
  },
  {
   "cell_type": "code",
   "execution_count": 25,
   "metadata": {
    "collapsed": false
   },
   "outputs": [
    {
     "name": "stdout",
     "output_type": "stream",
     "text": [
      "0.0001_1_1\n",
      "step 250, training accuracy 0.56\n",
      "step 500, training accuracy 0.71\n",
      "step 750, training accuracy 0.71\n",
      "step 1000, training accuracy 0.72\n",
      "step 1250, training accuracy 0.68\n",
      "step 1500, training accuracy 0.76\n",
      "step 1750, training accuracy 0.67\n",
      "step 2000, training accuracy 0.65\n",
      "0.0001_1_2\n",
      "step 250, training accuracy 0.71\n",
      "step 500, training accuracy 0.82\n",
      "step 750, training accuracy 0.8\n",
      "step 1000, training accuracy 0.78\n",
      "step 1250, training accuracy 0.8\n",
      "step 1500, training accuracy 0.85\n",
      "step 1750, training accuracy 0.81\n",
      "step 2000, training accuracy 0.85\n",
      "0.0001_2_1\n",
      "step 250, training accuracy 0.38\n",
      "step 500, training accuracy 0.39\n",
      "step 750, training accuracy 0.49\n",
      "step 1000, training accuracy 0.46\n",
      "step 1250, training accuracy 0.56\n",
      "step 1500, training accuracy 0.54\n",
      "step 1750, training accuracy 0.44\n",
      "step 2000, training accuracy 0.46\n",
      "0.0001_2_2\n",
      "step 250, training accuracy 0.61\n",
      "step 500, training accuracy 0.7\n",
      "step 750, training accuracy 0.75\n",
      "step 1000, training accuracy 0.81\n",
      "step 1250, training accuracy 0.78\n",
      "step 1500, training accuracy 0.78\n",
      "step 1750, training accuracy 0.81\n",
      "step 2000, training accuracy 0.83\n",
      "0.01_1_1\n",
      "step 250, training accuracy 0.14\n",
      "step 500, training accuracy 0.04\n",
      "step 750, training accuracy 0.14\n",
      "step 1000, training accuracy 0.14\n",
      "step 1250, training accuracy 0.06\n",
      "step 1500, training accuracy 0.12\n",
      "step 1750, training accuracy 0.08\n",
      "step 2000, training accuracy 0.1\n",
      "0.01_1_2\n",
      "step 250, training accuracy 0.1\n",
      "step 500, training accuracy 0.09\n",
      "step 750, training accuracy 0.12\n",
      "step 1000, training accuracy 0.06\n",
      "step 1250, training accuracy 0.12\n",
      "step 1500, training accuracy 0.11\n",
      "step 1750, training accuracy 0.15\n",
      "step 2000, training accuracy 0.06\n",
      "0.01_2_1\n",
      "step 250, training accuracy 0.1\n",
      "step 500, training accuracy 0.12\n",
      "step 750, training accuracy 0.08\n",
      "step 1000, training accuracy 0.18\n",
      "step 1250, training accuracy 0.12\n",
      "step 1500, training accuracy 0.12\n",
      "step 1750, training accuracy 0.09\n",
      "step 2000, training accuracy 0.11\n",
      "0.01_2_2\n",
      "step 250, training accuracy 0.1\n",
      "step 500, training accuracy 0.08\n",
      "step 750, training accuracy 0.13\n",
      "step 1000, training accuracy 0.07\n",
      "step 1250, training accuracy 0.14\n",
      "step 1500, training accuracy 0.08\n",
      "step 1750, training accuracy 0.08\n",
      "step 2000, training accuracy 0.09\n",
      "1_1_1\n",
      "step 250, training accuracy 0.11\n",
      "step 500, training accuracy 0.21\n",
      "step 750, training accuracy 0.08\n",
      "step 1000, training accuracy 0.14\n",
      "step 1250, training accuracy 0.1\n",
      "step 1500, training accuracy 0.16\n",
      "step 1750, training accuracy 0.1\n",
      "step 2000, training accuracy 0.1\n",
      "1_1_2\n",
      "step 250, training accuracy 0.11\n",
      "step 500, training accuracy 0.13\n",
      "step 750, training accuracy 0.08\n",
      "step 1000, training accuracy 0.05\n",
      "step 1250, training accuracy 0.12\n",
      "step 1500, training accuracy 0.13\n",
      "step 1750, training accuracy 0.11\n",
      "step 2000, training accuracy 0.11\n",
      "1_2_1\n",
      "step 250, training accuracy 0.09\n",
      "step 500, training accuracy 0.16\n",
      "step 750, training accuracy 0.08\n",
      "step 1000, training accuracy 0.08\n",
      "step 1250, training accuracy 0.09\n",
      "step 1500, training accuracy 0.12\n",
      "step 1750, training accuracy 0.14\n",
      "step 2000, training accuracy 0.12\n",
      "1_2_2\n",
      "step 250, training accuracy 0.12\n",
      "step 500, training accuracy 0.14\n",
      "step 750, training accuracy 0.05\n",
      "step 1000, training accuracy 0.07\n",
      "step 1250, training accuracy 0.1\n",
      "step 1500, training accuracy 0.03\n",
      "step 1750, training accuracy 0.07\n",
      "step 2000, training accuracy 0.08\n"
     ]
    }
   ],
   "source": [
    "for learning_rate in [1e-4, 1e-2, 1]:\n",
    "  for n_fc_layers in [1, 2]:\n",
    "    for n_conv_layers in [1, 2]:\n",
    "      description = '{}_{}_{}'.format(learning_rate, n_fc_layers, n_conv_layers)\n",
    "      writer = tf.summary.FileWriter('logs/hparams/{}'.format(description))\n",
    "      print(description)\n",
    "      run_mnist(learning_rate, n_fc_layers, n_conv_layers, writer)"
   ]
  },
  {
   "cell_type": "code",
   "execution_count": null,
   "metadata": {
    "collapsed": false
   },
   "outputs": [],
   "source": [
    "TensorBoard.list()"
   ]
  },
  {
   "cell_type": "code",
   "execution_count": null,
   "metadata": {
    "collapsed": true
   },
   "outputs": [],
   "source": []
  }
 ],
 "metadata": {
  "kernelspec": {
   "display_name": "Python 2",
   "language": "python",
   "name": "python2"
  },
  "language_info": {
   "codemirror_mode": {
    "name": "ipython",
    "version": 2
   },
   "file_extension": ".py",
   "mimetype": "text/x-python",
   "name": "python",
   "nbconvert_exporter": "python",
   "pygments_lexer": "ipython2",
   "version": "2.7.9"
  }
 },
 "nbformat": 4,
 "nbformat_minor": 2
}
