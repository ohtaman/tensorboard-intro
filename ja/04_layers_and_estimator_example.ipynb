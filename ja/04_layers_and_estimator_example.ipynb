{
 "cells": [
  {
   "cell_type": "markdown",
   "metadata": {},
   "source": [
    "## layers/Estimater との連携がうまく行っていないので調査が必要"
   ]
  },
  {
   "cell_type": "code",
   "execution_count": 4,
   "metadata": {
    "collapsed": true
   },
   "outputs": [],
   "source": [
    "import tensorflow as tf\n",
    "from tensorflow.examples.tutorials.mnist import input_data\n",
    "\n",
    "from google.datalab.ml._tensorboard import TensorBoard\n",
    "import matplotlib.pyplot as plt"
   ]
  },
  {
   "cell_type": "code",
   "execution_count": 5,
   "metadata": {
    "collapsed": false
   },
   "outputs": [
    {
     "name": "stdout",
     "output_type": "stream",
     "text": [
      "Extracting MNIST_data/train-images-idx3-ubyte.gz\n",
      "Extracting MNIST_data/train-labels-idx1-ubyte.gz\n",
      "Extracting MNIST_data/t10k-images-idx3-ubyte.gz\n",
      "Extracting MNIST_data/t10k-labels-idx1-ubyte.gz\n"
     ]
    }
   ],
   "source": [
    "# MNISTのデータのダウンロードと展開\n",
    "mnist = input_data.read_data_sets('MNIST_data', one_hot=True)"
   ]
  },
  {
   "cell_type": "code",
   "execution_count": 21,
   "metadata": {
    "collapsed": false
   },
   "outputs": [],
   "source": [
    "def model_fn(x, y, mode, params, config, model_dir):\n",
    "  x_image = tf.reshape(x, [-1, 28, 28, 1])\n",
    "  conv1 = tf.layers.conv2d(x_image, 8, (5, 5), padding='same', activation=tf.nn.relu)\n",
    "  pool1 = tf.layers.max_pooling2d(conv1, 2, 2)\n",
    "  conv2 = tf.layers.conv2d(pool1, 16, (5, 5), padding='same', activation=tf.nn.relu)\n",
    "  pool2 = tf.layers.max_pooling2d(conv2, 2, 2)\n",
    "\n",
    "  fc = tf.contrib.layers.flatten(pool2)\n",
    "  for i in range(params.get('n_fc_layers', 1)):\n",
    "    fc = tf.layers.dense(fc, 128, activation=tf.nn.relu)\n",
    "  logits = tf.layers.dense(fc, 10, activation=tf.nn.relu)\n",
    "  \n",
    "  xent = tf.losses.softmax_cross_entropy(y, logits)\n",
    "  tf.summary.scalar('xent', xent)\n",
    "   \n",
    "  train_op = tf.contrib.layers.optimize_loss(\n",
    "    loss=xent,\n",
    "    global_step=tf.contrib.framework.get_global_step(),\n",
    "    learning_rate=params.get('learning_rate', 1e-4),\n",
    "    optimizer=tf.train.AdamOptimizer\n",
    "  )\n",
    "    \n",
    "  correct_prediction = tf.equal(tf.argmax(logits, 1), tf.argmax(y, 1))\n",
    "  accuracy = tf.reduce_mean(tf.cast(correct_prediction, tf.float32))\n",
    "  tf.summary.scalar('acurracy', accuracy)\n",
    "  \n",
    "  return tf.contrib.learn.ModelFnOps(\n",
    "    mode=mode,\n",
    "    predictions={\n",
    "      'labels': tf.argmax(logits, 1),\n",
    "      'softmax': tf.nn.softmax(logits)\n",
    "    },\n",
    "    loss=xent,\n",
    "    train_op=train_op\n",
    "  )"
   ]
  },
  {
   "cell_type": "code",
   "execution_count": 22,
   "metadata": {
    "collapsed": false
   },
   "outputs": [
    {
     "name": "stdout",
     "output_type": "stream",
     "text": [
      "INFO:tensorflow:Using default config.\n",
      "INFO:tensorflow:Using config: {'_save_checkpoints_secs': 600, '_num_ps_replicas': 0, '_keep_checkpoint_max': 5, '_tf_random_seed': None, '_task_type': None, '_environment': 'local', '_is_chief': True, '_cluster_spec': <tensorflow.python.training.server_lib.ClusterSpec object at 0x7fedf8aa2f90>, '_tf_config': gpu_options {\n",
      "  per_process_gpu_memory_fraction: 1\n",
      "}\n",
      ", '_task_id': 0, '_save_summary_steps': 100, '_save_checkpoints_steps': None, '_evaluation_master': '', '_keep_checkpoint_every_n_hours': 10000, '_master': ''}\n"
     ]
    }
   ],
   "source": [
    "nn = tf.contrib.learn.Estimator(\n",
    "  model_fn=model_fn,\n",
    "  params={'learning_rate': 1e-4, 'n_fc_layers': 1},\n",
    "  model_dir='./logs/layers/4'\n",
    ")"
   ]
  },
  {
   "cell_type": "code",
   "execution_count": null,
   "metadata": {
    "collapsed": false
   },
   "outputs": [
    {
     "name": "stdout",
     "output_type": "stream",
     "text": [
      "WARNING:tensorflow:From <ipython-input-23-974a0b9cdb78>:5: calling fit (from tensorflow.contrib.learn.python.learn.estimators.estimator) with y is deprecated and will be removed after 2016-12-01.\n",
      "Instructions for updating:\n",
      "Estimator is decoupled from Scikit Learn interface by moving into\n",
      "separate class SKCompat. Arguments x, y and batch_size are only\n",
      "available in the SKCompat class, Estimator will only accept input_fn.\n",
      "Example conversion:\n",
      "  est = Estimator(...) -> est = SKCompat(Estimator(...))\n",
      "WARNING:tensorflow:From <ipython-input-23-974a0b9cdb78>:5: calling fit (from tensorflow.contrib.learn.python.learn.estimators.estimator) with x is deprecated and will be removed after 2016-12-01.\n",
      "Instructions for updating:\n",
      "Estimator is decoupled from Scikit Learn interface by moving into\n",
      "separate class SKCompat. Arguments x, y and batch_size are only\n",
      "available in the SKCompat class, Estimator will only accept input_fn.\n",
      "Example conversion:\n",
      "  est = Estimator(...) -> est = SKCompat(Estimator(...))\n",
      "WARNING:tensorflow:float64 is not supported by many models, consider casting to float32.\n"
     ]
    },
    {
     "name": "stderr",
     "output_type": "stream",
     "text": [
      "/usr/local/lib/python2.7/dist-packages/tensorflow/python/util/deprecation.py:247: FutureWarning: comparison to `None` will result in an elementwise object comparison in the future.\n",
      "  equality = a == b\n"
     ]
    },
    {
     "name": "stdout",
     "output_type": "stream",
     "text": [
      "INFO:tensorflow:Create CheckpointSaverHook.\n",
      "INFO:tensorflow:Saving checkpoints for 1 into ./logs/layers/4/model.ckpt.\n",
      "INFO:tensorflow:loss = 2.30395, step = 1\n"
     ]
    }
   ],
   "source": [
    "#summary_writer = tf.summary.FileWriter('logs/layers/2')\n",
    "\n",
    "nn.fit(\n",
    "  mnist.train.images,\n",
    "  mnist.train.labels,\n",
    "  #monitors=[tf.contrib.learn.monitors.SummarySaver(tf.summary.merge_all(), save_steps=5, summary_writer=summary_writer)]\n",
    ")"
   ]
  },
  {
   "cell_type": "code",
   "execution_count": null,
   "metadata": {
    "collapsed": true
   },
   "outputs": [],
   "source": []
  }
 ],
 "metadata": {
  "kernelspec": {
   "display_name": "Python 2",
   "language": "python",
   "name": "python2"
  },
  "language_info": {
   "codemirror_mode": {
    "name": "ipython",
    "version": 2
   },
   "file_extension": ".py",
   "mimetype": "text/x-python",
   "name": "python",
   "nbconvert_exporter": "python",
   "pygments_lexer": "ipython2",
   "version": "2.7.9"
  }
 },
 "nbformat": 4,
 "nbformat_minor": 2
}
