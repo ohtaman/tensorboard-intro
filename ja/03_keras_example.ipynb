{
 "cells": [
  {
   "cell_type": "markdown",
   "metadata": {},
   "source": [
    "## 3. KerasとTensorBoard"
   ]
  },
  {
   "cell_type": "markdown",
   "metadata": {},
   "source": [
    "Datalab には keras が入っていないので、インストールが必要"
   ]
  },
  {
   "cell_type": "code",
   "execution_count": 2,
   "metadata": {
    "codeCollapsed": false,
    "collapsed": false,
    "hiddenCell": true
   },
   "outputs": [
    {
     "name": "stdout",
     "output_type": "stream",
     "text": [
      "Collecting keras==2.0\n",
      "  Downloading Keras-2.0.0.tar.gz (191kB)\n",
      "\u001b[K    100% |################################| 194kB 6.0MB/s \n",
      "\u001b[?25hRequirement already satisfied: tensorflow in /usr/local/lib/python2.7/dist-packages (from keras==2.0)\n",
      "Requirement already satisfied: pyyaml in /usr/local/lib/python2.7/dist-packages (from keras==2.0)\n",
      "Requirement already satisfied: six in /usr/local/lib/python2.7/dist-packages (from keras==2.0)\n",
      "Requirement already satisfied: numpy>=1.11.0 in /usr/local/lib/python2.7/dist-packages (from tensorflow->keras==2.0)\n",
      "Requirement already satisfied: mock>=2.0.0 in /usr/local/lib/python2.7/dist-packages (from tensorflow->keras==2.0)\n",
      "Requirement already satisfied: wheel in /usr/local/lib/python2.7/dist-packages (from tensorflow->keras==2.0)\n",
      "Requirement already satisfied: protobuf>=3.1.0 in /usr/local/lib/python2.7/dist-packages (from tensorflow->keras==2.0)\n",
      "Requirement already satisfied: funcsigs>=1; python_version < \"3.3\" in /usr/local/lib/python2.7/dist-packages (from mock>=2.0.0->tensorflow->keras==2.0)\n",
      "Requirement already satisfied: pbr>=0.11 in /usr/local/lib/python2.7/dist-packages (from mock>=2.0.0->tensorflow->keras==2.0)\n",
      "Requirement already satisfied: setuptools in /usr/local/lib/python2.7/dist-packages (from protobuf>=3.1.0->tensorflow->keras==2.0)\n",
      "Requirement already satisfied: packaging>=16.8 in /usr/local/lib/python2.7/dist-packages (from setuptools->protobuf>=3.1.0->tensorflow->keras==2.0)\n",
      "Requirement already satisfied: appdirs>=1.4.0 in /usr/local/lib/python2.7/dist-packages (from setuptools->protobuf>=3.1.0->tensorflow->keras==2.0)\n",
      "Requirement already satisfied: pyparsing in /usr/local/lib/python2.7/dist-packages (from packaging>=16.8->setuptools->protobuf>=3.1.0->tensorflow->keras==2.0)\n",
      "Building wheels for collected packages: keras\n",
      "  Running setup.py bdist_wheel for keras ... \u001b[?25l-\b \bdone\n",
      "\u001b[?25h  Stored in directory: /root/.cache/pip/wheels/02/88/e7/d2bb6fa8b26ab2966bcaa00d25c0d0052bb2f8e15b5445515b\n",
      "Successfully built keras\n",
      "Installing collected packages: keras\n",
      "Successfully installed keras-2.0.0\n"
     ]
    }
   ],
   "source": [
    "!pip install keras==2.0"
   ]
  },
  {
   "cell_type": "markdown",
   "metadata": {},
   "source": [
    "## 3-1. 前準備 \n",
    "\n",
    "必要なライブラリとデータの読み込みを行う。\n",
    "\n",
    "MNISTでもMNISTが準備されている"
   ]
  },
  {
   "cell_type": "code",
   "execution_count": 9,
   "metadata": {
    "collapsed": false
   },
   "outputs": [],
   "source": [
    "import tensorflow as tf\n",
    "import keras\n",
    "from keras.datasets import mnist\n",
    "\n",
    "from google.datalab.ml._tensorboard import TensorBoard"
   ]
  },
  {
   "cell_type": "markdown",
   "metadata": {},
   "source": [
    "## 3-2. 入力データ準備"
   ]
  },
  {
   "cell_type": "code",
   "execution_count": 2,
   "metadata": {
    "collapsed": false
   },
   "outputs": [],
   "source": [
    "(x_train, y_train), (x_test, y_test) = mnist.load_data()"
   ]
  },
  {
   "cell_type": "code",
   "execution_count": 3,
   "metadata": {
    "collapsed": false
   },
   "outputs": [],
   "source": [
    "# TensorFlow付属のものと違い、リスケールが必要\n",
    "x_train = x_train.astype(float).reshape(-1, 28, 28, 1)/255.\n",
    "x_test = x_test.astype(float).reshape(-1, 28, 28, 1)/255.\n",
    "\n",
    "y_train = keras.utils.to_categorical(y_train, 10)\n",
    "y_test = keras.utils.to_categorical(y_test, 10)"
   ]
  },
  {
   "cell_type": "markdown",
   "metadata": {},
   "source": [
    "## 3-3. モデルの構築\n",
    "\n",
    "Kerasではlayerをひたすらaddするだけモデルを構築できる。"
   ]
  },
  {
   "cell_type": "code",
   "execution_count": 4,
   "metadata": {
    "collapsed": false
   },
   "outputs": [],
   "source": [
    "model = keras.models.Sequential()\n",
    "model.add(keras.layers.Conv2D(8, (5, 5), activation='relu', input_shape=(28, 28, 1), padding='same'))\n",
    "model.add(keras.layers.MaxPool2D())\n",
    "model.add(keras.layers.Conv2D(16, (5, 5), activation='relu', padding='same'))\n",
    "model.add(keras.layers.MaxPool2D())\n",
    "model.add(keras.layers.Flatten())\n",
    "model.add(keras.layers.Dense(1024, activation='relu'))\n",
    "model.add(keras.layers.Dense(10, activation='softmax'))\n",
    "\n",
    "model.compile(\n",
    "  loss=keras.losses.categorical_crossentropy,\n",
    "  optimizer=keras.optimizers.Adam()\n",
    ")"
   ]
  },
  {
   "cell_type": "markdown",
   "metadata": {},
   "source": [
    "## 3-4 コールバック関数の準備\n",
    "\n",
    "callback を指定すると、各epoch毎に任意の関数を実行してくれる。TensorBoard用のクラスも用意されている"
   ]
  },
  {
   "cell_type": "code",
   "execution_count": 6,
   "metadata": {
    "collapsed": false
   },
   "outputs": [],
   "source": [
    "callbacks = [keras.callbacks.TensorBoard(log_dir='logs/keras', histogram_freq=1)]\n",
    "model.fit(x_train, y_train, shuffle=True, epochs=2, batch_size=100, callbacks=callbacks)"
   ]
  },
  {
   "cell_type": "code",
   "execution_count": 10,
   "metadata": {
    "collapsed": false
   },
   "outputs": [
    {
     "data": {
      "text/html": [
       "<p>TensorBoard was started successfully with pid 5074. Click <a href=\"/_proxy/48320/\" target=\"_blank\">here</a> to access it.</p>"
      ]
     },
     "metadata": {},
     "output_type": "display_data"
    }
   ],
   "source": [
    "pid = TensorBoard.start('logs/keras')"
   ]
  },
  {
   "cell_type": "code",
   "execution_count": null,
   "metadata": {
    "collapsed": true
   },
   "outputs": [],
   "source": [
    "keras.callbacks.TensorBoard()"
   ]
  },
  {
   "cell_type": "code",
   "execution_count": null,
   "metadata": {
    "collapsed": true
   },
   "outputs": [],
   "source": []
  }
 ],
 "metadata": {
  "kernelspec": {
   "display_name": "Python 2",
   "language": "python",
   "name": "python2"
  },
  "language_info": {
   "codemirror_mode": {
    "name": "ipython",
    "version": 2
   },
   "file_extension": ".py",
   "mimetype": "text/x-python",
   "name": "python",
   "nbconvert_exporter": "python",
   "pygments_lexer": "ipython2",
   "version": "2.7.9"
  }
 },
 "nbformat": 4,
 "nbformat_minor": 2
}
